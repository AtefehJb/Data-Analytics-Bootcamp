{
 "cells": [
  {
   "cell_type": "code",
   "execution_count": 1,
   "metadata": {},
   "outputs": [],
   "source": [
    "import json\n",
    "import pandas as pd"
   ]
  },
  {
   "cell_type": "code",
   "execution_count": 2,
   "metadata": {},
   "outputs": [],
   "source": [
    "filepath = \"MoCoViolations_2018.json\"\n",
    "with open(filepath) as file:\n",
    "    violations = json.load(file)"
   ]
  },
  {
   "cell_type": "code",
   "execution_count": 3,
   "metadata": {},
   "outputs": [
    {
     "data": {
      "text/plain": [
       "dict"
      ]
     },
     "execution_count": 3,
     "metadata": {},
     "output_type": "execute_result"
    }
   ],
   "source": [
    "type(violations)"
   ]
  },
  {
   "cell_type": "code",
   "execution_count": 4,
   "metadata": {},
   "outputs": [
    {
     "data": {
      "text/plain": [
       "dict_keys(['meta', 'data'])"
      ]
     },
     "execution_count": 4,
     "metadata": {},
     "output_type": "execute_result"
    }
   ],
   "source": [
    "violations.keys()"
   ]
  },
  {
   "cell_type": "code",
   "execution_count": 9,
   "metadata": {},
   "outputs": [
    {
     "data": {
      "text/plain": [
       "dict_keys(['view'])"
      ]
     },
     "execution_count": 9,
     "metadata": {},
     "output_type": "execute_result"
    }
   ],
   "source": [
    "violations['meta'].keys()"
   ]
  },
  {
   "cell_type": "code",
   "execution_count": 10,
   "metadata": {},
   "outputs": [
    {
     "data": {
      "text/plain": [
       "dict"
      ]
     },
     "execution_count": 10,
     "metadata": {},
     "output_type": "execute_result"
    }
   ],
   "source": [
    "type(violations['meta']['view'])"
   ]
  },
  {
   "cell_type": "code",
   "execution_count": 11,
   "metadata": {},
   "outputs": [
    {
     "data": {
      "text/plain": [
       "dict_keys(['id', 'name', 'averageRating', 'category', 'createdAt', 'description', 'displayType', 'downloadCount', 'hideFromCatalog', 'hideFromDataJson', 'indexUpdatedAt', 'newBackend', 'numberOfComments', 'oid', 'provenance', 'publicationAppendEnabled', 'publicationDate', 'publicationGroup', 'publicationStage', 'rowsUpdatedAt', 'rowsUpdatedBy', 'tableId', 'totalTimesRated', 'viewCount', 'viewLastModified', 'viewType', 'columns', 'grants', 'metadata', 'owner', 'query', 'rights', 'tableAuthor', 'tags', 'flags'])"
      ]
     },
     "execution_count": 11,
     "metadata": {},
     "output_type": "execute_result"
    }
   ],
   "source": [
    "violations['meta']['view'].keys()"
   ]
  },
  {
   "cell_type": "code",
   "execution_count": 14,
   "metadata": {},
   "outputs": [
    {
     "data": {
      "text/plain": [
       "list"
      ]
     },
     "execution_count": 14,
     "metadata": {},
     "output_type": "execute_result"
    }
   ],
   "source": [
    "type(violations['data'])"
   ]
  },
  {
   "cell_type": "code",
   "execution_count": 26,
   "metadata": {},
   "outputs": [
    {
     "data": {
      "text/plain": [
       "218273"
      ]
     },
     "execution_count": 26,
     "metadata": {},
     "output_type": "execute_result"
    }
   ],
   "source": [
    "len(violations['data'])"
   ]
  },
  {
   "cell_type": "code",
   "execution_count": 17,
   "metadata": {},
   "outputs": [
    {
     "data": {
      "text/plain": [
       "['row-v8zv-hwwx.crxf',\n",
       " '00000000-0000-0000-A220-6FFDDEFE5B01',\n",
       " 0,\n",
       " 1554316021,\n",
       " None,\n",
       " 1554317219,\n",
       " None,\n",
       " '{ }',\n",
       " '592af771-3d10-4d42-b35a-15fa7c9f7387',\n",
       " '2018-12-31T00:00:00',\n",
       " '23:52:00',\n",
       " 'MCP',\n",
       " '6th District, Gaithersburg / Montgomery Village',\n",
       " 'FAILURE TO DISPLAY TWO LIGHTED FRONT LAMPS WHEN REQUIRED',\n",
       " 'N FREDERICK AVE @ ODENDHAL AVE',\n",
       " '39.1486766666667',\n",
       " '-77.2063433333333',\n",
       " 'No',\n",
       " 'No',\n",
       " 'No',\n",
       " 'No',\n",
       " 'No',\n",
       " 'No',\n",
       " 'No',\n",
       " 'No',\n",
       " 'No',\n",
       " 'No',\n",
       " 'MD',\n",
       " '02 - Automobile',\n",
       " '2006',\n",
       " 'LEXUS',\n",
       " '4S',\n",
       " 'GRAY',\n",
       " 'Warning',\n",
       " '22-226(a)',\n",
       " 'Transportation Article',\n",
       " 'false',\n",
       " 'HISPANIC',\n",
       " 'M',\n",
       " 'GERMANTOWN',\n",
       " 'MD',\n",
       " 'MD',\n",
       " 'A - Marked Patrol',\n",
       " [None, '39.148676666667', '-77.206343333333', None, False, None],\n",
       " '3',\n",
       " '3',\n",
       " '36',\n",
       " '35',\n",
       " '21']"
      ]
     },
     "execution_count": 17,
     "metadata": {},
     "output_type": "execute_result"
    }
   ],
   "source": [
    "violations['data'][1]"
   ]
  },
  {
   "cell_type": "code",
   "execution_count": 18,
   "metadata": {},
   "outputs": [
    {
     "data": {
      "text/plain": [
       "'2018-12-31T00:00:00'"
      ]
     },
     "execution_count": 18,
     "metadata": {},
     "output_type": "execute_result"
    }
   ],
   "source": [
    "violations['data'][1][9]"
   ]
  },
  {
   "cell_type": "code",
   "execution_count": 34,
   "metadata": {},
   "outputs": [],
   "source": [
    "violation_dict = {'Date of Stop':[],\n",
    "              'Time of Stop':[],\n",
    "              'Agency':[],\n",
    "              'Subagency':[],\n",
    "              'Description':[],\n",
    "              'Location':[],\n",
    "               'Latitude':[],   \n",
    "              'Vehicle Type':[],\n",
    "              'Vehicle Year':[],\n",
    "              'Vehicle Make':[],\n",
    "              'Vehicle Model':[],\n",
    "              'Vehicle Color':[],\n",
    "              'Violation Type':[],\n",
    "              'Race':[],\n",
    "              'Gender':[],\n",
    "              \"Driver's State\":[],\n",
    "              \"Driver's License State\":[],\n",
    "              'Arrest Type':[]\n",
    "             }"
   ]
  },
  {
   "cell_type": "code",
   "execution_count": 35,
   "metadata": {},
   "outputs": [],
   "source": [
    "\n",
    "for i in range(len(violations['data'])):  \n",
    "\n",
    "    violation_dict['Date of Stop'].append(violations['data'][i][9])\n",
    "    violation_dict['Time of Stop'].append(violations['data'][i][10])\n",
    "    violation_dict['Agency'].append(violations['data'][i][11])\n",
    "    violation_dict['Subagency'].append(violations['data'][i][12])\n",
    "    violation_dict['Description'].append(violations['data'][i][13])\n",
    "    violation_dict['Location'].append(violations['data'][i][14])\n",
    "    violation_dict['Latitude'].append(violations['data'][i][15])\n",
    "    violation_dict['Vehicle Type'].append(violations['data'][i][28])\n",
    "    violation_dict['Vehicle Year'].append(violations['data'][i][29])\n",
    "    violation_dict['Vehicle Make'].append(violations['data'][i][30])\n",
    "    violation_dict['Vehicle Model'].append(violations['data'][i][31])\n",
    "    violation_dict['Vehicle Color'].append(violations['data'][i][32])\n",
    "    violation_dict['Violation Type'].append(violations['data'][i][33])\n",
    "    violation_dict['Race'].append(violations['data'][i][37])\n",
    "    violation_dict['Gender'].append(violations['data'][i][38])\n",
    "    violation_dict[\"Driver's State\"].append(violations['data'][i][40])\n",
    "    violation_dict[\"Driver's License State\"].append(violations['data'][i][41])\n",
    "    violation_dict[\"Arrest Type\"].append(violations['data'][i][42])\n",
    "    \n",
    "      "
   ]
  },
  {
   "cell_type": "code",
   "execution_count": 36,
   "metadata": {},
   "outputs": [
    {
     "data": {
      "text/html": [
       "<div>\n",
       "<style scoped>\n",
       "    .dataframe tbody tr th:only-of-type {\n",
       "        vertical-align: middle;\n",
       "    }\n",
       "\n",
       "    .dataframe tbody tr th {\n",
       "        vertical-align: top;\n",
       "    }\n",
       "\n",
       "    .dataframe thead th {\n",
       "        text-align: right;\n",
       "    }\n",
       "</style>\n",
       "<table border=\"1\" class=\"dataframe\">\n",
       "  <thead>\n",
       "    <tr style=\"text-align: right;\">\n",
       "      <th></th>\n",
       "      <th>Date of Stop</th>\n",
       "      <th>Time of Stop</th>\n",
       "      <th>Agency</th>\n",
       "      <th>Subagency</th>\n",
       "      <th>Description</th>\n",
       "      <th>Location</th>\n",
       "      <th>Latitude</th>\n",
       "      <th>Vehicle Type</th>\n",
       "      <th>Vehicle Year</th>\n",
       "      <th>Vehicle Make</th>\n",
       "      <th>Vehicle Model</th>\n",
       "      <th>Vehicle Color</th>\n",
       "      <th>Violation Type</th>\n",
       "      <th>Race</th>\n",
       "      <th>Gender</th>\n",
       "      <th>Driver's State</th>\n",
       "      <th>Driver's License State</th>\n",
       "      <th>Arrest Type</th>\n",
       "    </tr>\n",
       "  </thead>\n",
       "  <tbody>\n",
       "    <tr>\n",
       "      <th>0</th>\n",
       "      <td>2018-12-31T00:00:00</td>\n",
       "      <td>23:56:00</td>\n",
       "      <td>MCP</td>\n",
       "      <td>1st District, Rockville</td>\n",
       "      <td>FAILURE OF VEH. ON HWY. TO DISPLAY LIGHTED LAM...</td>\n",
       "      <td>355 @ FIRST ST</td>\n",
       "      <td>39.07792</td>\n",
       "      <td>02 - Automobile</td>\n",
       "      <td>2007</td>\n",
       "      <td>TOYOTA</td>\n",
       "      <td>COROLLA</td>\n",
       "      <td>BLUE</td>\n",
       "      <td>Warning</td>\n",
       "      <td>BLACK</td>\n",
       "      <td>M</td>\n",
       "      <td>MD</td>\n",
       "      <td>MD</td>\n",
       "      <td>A - Marked Patrol</td>\n",
       "    </tr>\n",
       "    <tr>\n",
       "      <th>1</th>\n",
       "      <td>2018-12-31T00:00:00</td>\n",
       "      <td>23:52:00</td>\n",
       "      <td>MCP</td>\n",
       "      <td>6th District, Gaithersburg / Montgomery Village</td>\n",
       "      <td>FAILURE TO DISPLAY TWO LIGHTED FRONT LAMPS WHE...</td>\n",
       "      <td>N FREDERICK AVE @ ODENDHAL AVE</td>\n",
       "      <td>39.1486766666667</td>\n",
       "      <td>02 - Automobile</td>\n",
       "      <td>2006</td>\n",
       "      <td>LEXUS</td>\n",
       "      <td>4S</td>\n",
       "      <td>GRAY</td>\n",
       "      <td>Warning</td>\n",
       "      <td>HISPANIC</td>\n",
       "      <td>M</td>\n",
       "      <td>MD</td>\n",
       "      <td>MD</td>\n",
       "      <td>A - Marked Patrol</td>\n",
       "    </tr>\n",
       "    <tr>\n",
       "      <th>2</th>\n",
       "      <td>2018-12-31T00:00:00</td>\n",
       "      <td>23:52:00</td>\n",
       "      <td>MCP</td>\n",
       "      <td>6th District, Gaithersburg / Montgomery Village</td>\n",
       "      <td>FAILURE OF VEH. ON HWY. TO DISPLAY LIGHTED LAM...</td>\n",
       "      <td>N FREDERICK AVE @ ODENDHAL AVE</td>\n",
       "      <td>39.1486766666667</td>\n",
       "      <td>02 - Automobile</td>\n",
       "      <td>2006</td>\n",
       "      <td>LEXUS</td>\n",
       "      <td>4S</td>\n",
       "      <td>GRAY</td>\n",
       "      <td>Warning</td>\n",
       "      <td>HISPANIC</td>\n",
       "      <td>M</td>\n",
       "      <td>MD</td>\n",
       "      <td>MD</td>\n",
       "      <td>A - Marked Patrol</td>\n",
       "    </tr>\n",
       "    <tr>\n",
       "      <th>3</th>\n",
       "      <td>2018-12-31T00:00:00</td>\n",
       "      <td>23:45:00</td>\n",
       "      <td>MCP</td>\n",
       "      <td>1st District, Rockville</td>\n",
       "      <td>FAILURE OF VEH. ON HWY. TO DISPLAY LIGHTED LAM...</td>\n",
       "      <td>355 @ BEAL</td>\n",
       "      <td>39.08545</td>\n",
       "      <td>02 - Automobile</td>\n",
       "      <td>2017</td>\n",
       "      <td>TOYOTA</td>\n",
       "      <td>COROLLA</td>\n",
       "      <td>GRAY</td>\n",
       "      <td>Warning</td>\n",
       "      <td>WHITE</td>\n",
       "      <td>F</td>\n",
       "      <td>MD</td>\n",
       "      <td>MD</td>\n",
       "      <td>A - Marked Patrol</td>\n",
       "    </tr>\n",
       "    <tr>\n",
       "      <th>4</th>\n",
       "      <td>2018-12-31T00:00:00</td>\n",
       "      <td>23:44:00</td>\n",
       "      <td>MCP</td>\n",
       "      <td>Headquarters and Special Operations</td>\n",
       "      <td>FAILURE TO DRIVE VEHICLE ON RIGHT HALF OF ROAD...</td>\n",
       "      <td>FENTON ST @ COLESVILLE RD</td>\n",
       "      <td>38.997515</td>\n",
       "      <td>02 - Automobile</td>\n",
       "      <td>2016</td>\n",
       "      <td>CHEVROLET</td>\n",
       "      <td>IMPALA</td>\n",
       "      <td>BLACK</td>\n",
       "      <td>Warning</td>\n",
       "      <td>BLACK</td>\n",
       "      <td>M</td>\n",
       "      <td>VA</td>\n",
       "      <td>VA</td>\n",
       "      <td>A - Marked Patrol</td>\n",
       "    </tr>\n",
       "  </tbody>\n",
       "</table>\n",
       "</div>"
      ],
      "text/plain": [
       "          Date of Stop Time of Stop Agency  \\\n",
       "0  2018-12-31T00:00:00     23:56:00    MCP   \n",
       "1  2018-12-31T00:00:00     23:52:00    MCP   \n",
       "2  2018-12-31T00:00:00     23:52:00    MCP   \n",
       "3  2018-12-31T00:00:00     23:45:00    MCP   \n",
       "4  2018-12-31T00:00:00     23:44:00    MCP   \n",
       "\n",
       "                                         Subagency  \\\n",
       "0                          1st District, Rockville   \n",
       "1  6th District, Gaithersburg / Montgomery Village   \n",
       "2  6th District, Gaithersburg / Montgomery Village   \n",
       "3                          1st District, Rockville   \n",
       "4              Headquarters and Special Operations   \n",
       "\n",
       "                                         Description  \\\n",
       "0  FAILURE OF VEH. ON HWY. TO DISPLAY LIGHTED LAM...   \n",
       "1  FAILURE TO DISPLAY TWO LIGHTED FRONT LAMPS WHE...   \n",
       "2  FAILURE OF VEH. ON HWY. TO DISPLAY LIGHTED LAM...   \n",
       "3  FAILURE OF VEH. ON HWY. TO DISPLAY LIGHTED LAM...   \n",
       "4  FAILURE TO DRIVE VEHICLE ON RIGHT HALF OF ROAD...   \n",
       "\n",
       "                         Location          Latitude     Vehicle Type  \\\n",
       "0                  355 @ FIRST ST          39.07792  02 - Automobile   \n",
       "1  N FREDERICK AVE @ ODENDHAL AVE  39.1486766666667  02 - Automobile   \n",
       "2  N FREDERICK AVE @ ODENDHAL AVE  39.1486766666667  02 - Automobile   \n",
       "3                      355 @ BEAL          39.08545  02 - Automobile   \n",
       "4       FENTON ST @ COLESVILLE RD         38.997515  02 - Automobile   \n",
       "\n",
       "  Vehicle Year Vehicle Make Vehicle Model Vehicle Color Violation Type  \\\n",
       "0         2007       TOYOTA       COROLLA          BLUE        Warning   \n",
       "1         2006        LEXUS            4S          GRAY        Warning   \n",
       "2         2006        LEXUS            4S          GRAY        Warning   \n",
       "3         2017       TOYOTA       COROLLA          GRAY        Warning   \n",
       "4         2016    CHEVROLET        IMPALA         BLACK        Warning   \n",
       "\n",
       "       Race Gender Driver's State Driver's License State        Arrest Type  \n",
       "0     BLACK      M             MD                     MD  A - Marked Patrol  \n",
       "1  HISPANIC      M             MD                     MD  A - Marked Patrol  \n",
       "2  HISPANIC      M             MD                     MD  A - Marked Patrol  \n",
       "3     WHITE      F             MD                     MD  A - Marked Patrol  \n",
       "4     BLACK      M             VA                     VA  A - Marked Patrol  "
      ]
     },
     "execution_count": 36,
     "metadata": {},
     "output_type": "execute_result"
    }
   ],
   "source": [
    "nba_df = pd.DataFrame(data=violation_dict)\n",
    "nba_df.head()"
   ]
  },
  {
   "cell_type": "code",
   "execution_count": null,
   "metadata": {},
   "outputs": [],
   "source": []
  }
 ],
 "metadata": {
  "kernelspec": {
   "display_name": "Python 3",
   "language": "python",
   "name": "python3"
  },
  "language_info": {
   "codemirror_mode": {
    "name": "ipython",
    "version": 3
   },
   "file_extension": ".py",
   "mimetype": "text/x-python",
   "name": "python",
   "nbconvert_exporter": "python",
   "pygments_lexer": "ipython3",
   "version": "3.7.1"
  }
 },
 "nbformat": 4,
 "nbformat_minor": 2
}
