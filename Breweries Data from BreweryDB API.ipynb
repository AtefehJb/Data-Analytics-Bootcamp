{
 "cells": [
  {
   "cell_type": "code",
   "execution_count": 1,
   "metadata": {},
   "outputs": [],
   "source": [
    "import requests\n",
    "import json\n",
    "import pandas as pd\n",
    "import numpy as np"
   ]
  },
  {
   "cell_type": "code",
   "execution_count": 2,
   "metadata": {},
   "outputs": [],
   "source": [
    "with open(\"brewDB_key.txt\") as file:\n",
    "    api_key = file.read()"
   ]
  },
  {
   "cell_type": "code",
   "execution_count": null,
   "metadata": {},
   "outputs": [],
   "source": [
    "api_key"
   ]
  },
  {
   "cell_type": "code",
   "execution_count": 4,
   "metadata": {},
   "outputs": [],
   "source": [
    "url = r\"https://sandbox-api.brewerydb.com/v2/beers/?key=\""
   ]
  },
  {
   "cell_type": "code",
   "execution_count": 5,
   "metadata": {},
   "outputs": [],
   "source": [
    "response = requests.get(url + api_key)"
   ]
  },
  {
   "cell_type": "code",
   "execution_count": 6,
   "metadata": {},
   "outputs": [
    {
     "data": {
      "text/plain": [
       "200"
      ]
     },
     "execution_count": 6,
     "metadata": {},
     "output_type": "execute_result"
    }
   ],
   "source": [
    "response.status_code"
   ]
  },
  {
   "cell_type": "code",
   "execution_count": 7,
   "metadata": {},
   "outputs": [],
   "source": [
    "beerdata = response.json()"
   ]
  },
  {
   "cell_type": "code",
   "execution_count": 8,
   "metadata": {},
   "outputs": [
    {
     "data": {
      "text/plain": [
       "dict"
      ]
     },
     "execution_count": 8,
     "metadata": {},
     "output_type": "execute_result"
    }
   ],
   "source": [
    "type(beerdata)"
   ]
  },
  {
   "cell_type": "code",
   "execution_count": 9,
   "metadata": {},
   "outputs": [
    {
     "data": {
      "text/plain": [
       "dict_keys(['currentPage', 'numberOfPages', 'totalResults', 'data', 'status'])"
      ]
     },
     "execution_count": 9,
     "metadata": {},
     "output_type": "execute_result"
    }
   ],
   "source": [
    "beerdata.keys()"
   ]
  },
  {
   "cell_type": "code",
   "execution_count": 15,
   "metadata": {},
   "outputs": [
    {
     "data": {
      "text/plain": [
       "list"
      ]
     },
     "execution_count": 15,
     "metadata": {},
     "output_type": "execute_result"
    }
   ],
   "source": [
    "type(beerdata['data'])"
   ]
  },
  {
   "cell_type": "code",
   "execution_count": 16,
   "metadata": {},
   "outputs": [
    {
     "data": {
      "text/plain": [
       "5"
      ]
     },
     "execution_count": 16,
     "metadata": {},
     "output_type": "execute_result"
    }
   ],
   "source": [
    "len(beerdata)"
   ]
  },
  {
   "cell_type": "code",
   "execution_count": 23,
   "metadata": {},
   "outputs": [
    {
     "data": {
      "text/plain": [
       "[{'id': 'c4f2KE',\n",
       "  'name': \"'Murican Pilsner\",\n",
       "  'nameDisplay': \"'Murican Pilsner\",\n",
       "  'abv': '5.5',\n",
       "  'glasswareId': 4,\n",
       "  'styleId': 98,\n",
       "  'isOrganic': 'N',\n",
       "  'isRetired': 'N',\n",
       "  'labels': {'icon': 'https://brewerydb-images.s3.amazonaws.com/beer/c4f2KE/upload_jjKJ7g-icon.png',\n",
       "   'medium': 'https://brewerydb-images.s3.amazonaws.com/beer/c4f2KE/upload_jjKJ7g-medium.png',\n",
       "   'large': 'https://brewerydb-images.s3.amazonaws.com/beer/c4f2KE/upload_jjKJ7g-large.png',\n",
       "   'contentAwareIcon': 'https://brewerydb-images.s3.amazonaws.com/beer/c4f2KE/upload_jjKJ7g-contentAwareIcon.png',\n",
       "   'contentAwareMedium': 'https://brewerydb-images.s3.amazonaws.com/beer/c4f2KE/upload_jjKJ7g-contentAwareMedium.png',\n",
       "   'contentAwareLarge': 'https://brewerydb-images.s3.amazonaws.com/beer/c4f2KE/upload_jjKJ7g-contentAwareLarge.png'},\n",
       "  'status': 'verified',\n",
       "  'statusDisplay': 'Verified',\n",
       "  'createDate': '2013-08-19 11:58:12',\n",
       "  'updateDate': '2018-11-02 02:15:14',\n",
       "  'glass': {'id': 4, 'name': 'Pilsner', 'createDate': '2012-01-03 02:41:33'},\n",
       "  'style': {'id': 98,\n",
       "   'categoryId': 8,\n",
       "   'category': {'id': 8,\n",
       "    'name': 'North American Lager',\n",
       "    'createDate': '2012-03-21 20:06:46'},\n",
       "   'name': 'American-Style Pilsener',\n",
       "   'shortName': 'American Pilsener',\n",
       "   'description': 'This classic and unique pre-Prohibition American-style Pilsener is straw to deep gold in color. Hop bitterness, flavor and aroma are medium to high, and use of noble-type hops for flavor and aroma is preferred. Up to 25 percent corn and/or rice in the grist should be used. Malt flavor and aroma are medium. This is a light-medium to medium-bodied beer. Sweet corn-like dimethylsulfide (DMS), fruity esters and American hop-derived citrus flavors or aromas should not be perceived. Diacetyl is not acceptable. There should be no chill haze. Competition organizers may wish to subcategorize this style into rice and corn subcategories.',\n",
       "   'ibuMin': '25',\n",
       "   'ibuMax': '40',\n",
       "   'abvMin': '5',\n",
       "   'abvMax': '6',\n",
       "   'srmMin': '3',\n",
       "   'srmMax': '6',\n",
       "   'ogMin': '1.045',\n",
       "   'fgMin': '1.012',\n",
       "   'fgMax': '1.018',\n",
       "   'createDate': '2012-03-21 20:06:46',\n",
       "   'updateDate': '2015-04-07 15:40:08'}}]"
      ]
     },
     "execution_count": 23,
     "metadata": {},
     "output_type": "execute_result"
    }
   ],
   "source": [
    "beerdata['data'][:1]"
   ]
  },
  {
   "cell_type": "code",
   "execution_count": 22,
   "metadata": {},
   "outputs": [
    {
     "data": {
      "text/plain": [
       "dict_keys(['id', 'name', 'nameDisplay', 'description', 'abv', 'ibu', 'styleId', 'isOrganic', 'isRetired', 'status', 'statusDisplay', 'originalGravity', 'createDate', 'updateDate', 'style'])"
      ]
     },
     "execution_count": 22,
     "metadata": {},
     "output_type": "execute_result"
    }
   ],
   "source": [
    "beerdata['data'][1].keys()"
   ]
  },
  {
   "cell_type": "code",
   "execution_count": 24,
   "metadata": {},
   "outputs": [],
   "source": [
    "beers = beerdata['data']"
   ]
  },
  {
   "cell_type": "code",
   "execution_count": 25,
   "metadata": {},
   "outputs": [],
   "source": [
    "beers_info = {'id':[],\n",
    "              'name':[],\n",
    "              'createDate':[],\n",
    "              'status':[],\n",
    "              'isRetired':[],\n",
    "              'isOrganic':[],\n",
    "              'description':[]\n",
    "             }\n",
    "#Is it mass owned?\n",
    "#Website"
   ]
  },
  {
   "cell_type": "code",
   "execution_count": 26,
   "metadata": {},
   "outputs": [],
   "source": [
    "\n",
    "for beer in beers:\n",
    "    \n",
    "    for key in beers_info.keys():\n",
    "        try:\n",
    "            beers_info[key].append(beer[key])\n",
    "        except KeyError:\n",
    "            beers_info[key].append(np.nan)\n",
    "    \n",
    "\n",
    "            \n",
    "    try:\n",
    "        style_descr.append(beer['style']['description'])\n",
    "    except KeyError:\n",
    "            style_descr.append(np.nan)"
   ]
  },
  {
   "cell_type": "code",
   "execution_count": 27,
   "metadata": {},
   "outputs": [
    {
     "data": {
      "text/html": [
       "<div>\n",
       "<style scoped>\n",
       "    .dataframe tbody tr th:only-of-type {\n",
       "        vertical-align: middle;\n",
       "    }\n",
       "\n",
       "    .dataframe tbody tr th {\n",
       "        vertical-align: top;\n",
       "    }\n",
       "\n",
       "    .dataframe thead th {\n",
       "        text-align: right;\n",
       "    }\n",
       "</style>\n",
       "<table border=\"1\" class=\"dataframe\">\n",
       "  <thead>\n",
       "    <tr style=\"text-align: right;\">\n",
       "      <th></th>\n",
       "      <th>id</th>\n",
       "      <th>name</th>\n",
       "      <th>createDate</th>\n",
       "      <th>status</th>\n",
       "      <th>isRetired</th>\n",
       "      <th>isOrganic</th>\n",
       "      <th>description</th>\n",
       "    </tr>\n",
       "  </thead>\n",
       "  <tbody>\n",
       "    <tr>\n",
       "      <th>0</th>\n",
       "      <td>c4f2KE</td>\n",
       "      <td>'Murican Pilsner</td>\n",
       "      <td>2013-08-19 11:58:12</td>\n",
       "      <td>verified</td>\n",
       "      <td>N</td>\n",
       "      <td>N</td>\n",
       "      <td>NaN</td>\n",
       "    </tr>\n",
       "    <tr>\n",
       "      <th>1</th>\n",
       "      <td>zTTWa2</td>\n",
       "      <td>11.5° PLATO</td>\n",
       "      <td>2016-08-09 14:44:42</td>\n",
       "      <td>verified</td>\n",
       "      <td>N</td>\n",
       "      <td>N</td>\n",
       "      <td>The Plato scale is a measurement of the densit...</td>\n",
       "    </tr>\n",
       "    <tr>\n",
       "      <th>2</th>\n",
       "      <td>zfP2fK</td>\n",
       "      <td>12th Of Never</td>\n",
       "      <td>2016-08-03 23:25:54</td>\n",
       "      <td>verified</td>\n",
       "      <td>N</td>\n",
       "      <td>N</td>\n",
       "      <td>Tropically Hoppy. Light, yet Full-Bodied. Brig...</td>\n",
       "    </tr>\n",
       "    <tr>\n",
       "      <th>3</th>\n",
       "      <td>xwYSL2</td>\n",
       "      <td>15th Anniversary Ale</td>\n",
       "      <td>2015-04-16 15:44:15</td>\n",
       "      <td>verified</td>\n",
       "      <td>N</td>\n",
       "      <td>N</td>\n",
       "      <td>For the ﬁrst ever SweetWater anniversary beer ...</td>\n",
       "    </tr>\n",
       "    <tr>\n",
       "      <th>4</th>\n",
       "      <td>UJGpVS</td>\n",
       "      <td>16 So Fine Red Wheat Wine</td>\n",
       "      <td>2013-02-24 16:31:05</td>\n",
       "      <td>verified</td>\n",
       "      <td>N</td>\n",
       "      <td>N</td>\n",
       "      <td>For our super heady 16 year anniversary beer w...</td>\n",
       "    </tr>\n",
       "  </tbody>\n",
       "</table>\n",
       "</div>"
      ],
      "text/plain": [
       "       id                       name           createDate    status isRetired  \\\n",
       "0  c4f2KE           'Murican Pilsner  2013-08-19 11:58:12  verified         N   \n",
       "1  zTTWa2                11.5° PLATO  2016-08-09 14:44:42  verified         N   \n",
       "2  zfP2fK              12th Of Never  2016-08-03 23:25:54  verified         N   \n",
       "3  xwYSL2       15th Anniversary Ale  2015-04-16 15:44:15  verified         N   \n",
       "4  UJGpVS  16 So Fine Red Wheat Wine  2013-02-24 16:31:05  verified         N   \n",
       "\n",
       "  isOrganic                                        description  \n",
       "0         N                                                NaN  \n",
       "1         N  The Plato scale is a measurement of the densit...  \n",
       "2         N  Tropically Hoppy. Light, yet Full-Bodied. Brig...  \n",
       "3         N  For the ﬁrst ever SweetWater anniversary beer ...  \n",
       "4         N  For our super heady 16 year anniversary beer w...  "
      ]
     },
     "execution_count": 27,
     "metadata": {},
     "output_type": "execute_result"
    }
   ],
   "source": [
    "beer_df = pd.DataFrame(data=beers_info)\n",
    "beer_df.head()"
   ]
  },
  {
   "cell_type": "code",
   "execution_count": null,
   "metadata": {},
   "outputs": [],
   "source": []
  }
 ],
 "metadata": {
  "kernelspec": {
   "display_name": "Python 3",
   "language": "python",
   "name": "python3"
  },
  "language_info": {
   "codemirror_mode": {
    "name": "ipython",
    "version": 3
   },
   "file_extension": ".py",
   "mimetype": "text/x-python",
   "name": "python",
   "nbconvert_exporter": "python",
   "pygments_lexer": "ipython3",
   "version": "3.7.1"
  }
 },
 "nbformat": 4,
 "nbformat_minor": 2
}
